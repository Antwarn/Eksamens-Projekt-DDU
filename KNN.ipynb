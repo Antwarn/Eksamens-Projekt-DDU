{
  "cells": [
    {
      "cell_type": "code",
      "execution_count": null,
      "metadata": {
        "colab": {
          "base_uri": "https://localhost:8080/",
          "height": 482
        },
        "id": "WlHZLaHanskc",
        "outputId": "7d34ef43-eb84-4549-df76-950cd851c89f"
      },
      "outputs": [
        {
          "name": "stdout",
          "output_type": "stream",
          "text": [
            "['#9D101D', '#2DDC1C']\n",
            "8 3 True\n",
            "[0, 0, 1, 1, 0]\n"
          ]
        },
        {
          "data": {
            "image/png": "[encoded data removed]",
            "text/plain": [
              "<Figure size 640x480 with 1 Axes>"
            ]
          },
          "metadata": {},
          "output_type": "display_data"
        }
      ],
      "source": [
        "import random\n",
        "import matplotlib.pyplot as plt\n",
        "import numpy as np\n",
        "\n",
        "labels = 2\n",
        "labelColors = [\"#\"+\"\".join([random.choice(\"0123456789ABCDEF\") for i in range(6)])\n",
        "                for j in range(labels)]\n",
        "print(labelColors)\n",
        "\n",
        "\n",
        "class Point:\n",
        "  def __init__(self, ukendt=False):\n",
        "    self.x = random.randint(0, 10)\n",
        "    self.y = random.randint(0, 10)\n",
        "    self.ukendt = ukendt\n",
        "\n",
        "    self.label = random.randint(0,len(labelColors)-1)\n",
        "\n",
        "  def plot(self):\n",
        "    if (self.label == None):\n",
        "      plt.scatter(self.x, self.y, marker=\"v\")\n",
        "\n",
        "    elif (self.ukendt):\n",
        "      plt.scatter(self.x, self.y, marker=\"v\", c=labelColors[self.label])\n",
        "\n",
        "    else:\n",
        "      plt.scatter(self.x, self.y, marker=\"o\", c=labelColors[self.label])\n",
        "\n",
        "\n",
        "#en funktion der beregner den eukliske distance mellem to punkter\n",
        "def euklidDistance(p1, p2):\n",
        "    return ((p1.x-p2.x)**2+(p1.y-p2.y)**2)**.5\n",
        "\n",
        "\n",
        "def knn(p, k: int):\n",
        "  if (k % 2 == 0):\n",
        "    print(\"indsat ulige k\")\n",
        "  else:\n",
        "    minDist = 1000000000000\n",
        "    closestPoints = {}\n",
        "\n",
        "    for x in L:\n",
        "      dist = euklidDistance(p, x)\n",
        "      closestPoints[dist] = x.label\n",
        "    closestPoints = dict(sorted(closestPoints.items()))\n",
        "    kElements = list(closestPoints.values())[:k]\n",
        "    print(kElements)\n",
        "    mostFrequentLabel = max(set(kElements), key=kElements.count)\n",
        "    p.label=mostFrequentLabel\n",
        "\n",
        "L = [Point() for i in range (10)]\n",
        "for x in L:\n",
        "  x.plot()\n",
        "\n",
        "ukendt = Point(True)\n",
        "ukendt.label = None\n",
        "print(ukendt.x, ukendt.y, ukendt.ukendt)\n",
        "\n",
        "knn(ukendt, 5)\n",
        "ukendt.plot()\n",
        "plt.show()\n",
        "\n",
        "\n",
        "\n",
        "class KNN():\n",
        "  def __init__(self, x, y, k=5):\n",
        "    self.x_train = x\n",
        "    self.y_train = y\n",
        "    self.k = k\n",
        "\n",
        "  def get_k_neighbor(self, p):\n",
        "    dists = []\n",
        "\n",
        "    for p1 in self.x_train:\n",
        "      dists.append(euklidDistance,(p1, p))\n",
        "\n",
        "    indices = np.argpartition(dists, self.k)\n",
        "    #\n",
        "    k_neighbors = indices[:self.k]\n",
        "    #\n",
        "    return k_neighbors\n",
        "\n",
        "  def predict(self, p):\n",
        "   knn_indices = self.get_k_neighbor(p)\n",
        "   labels = []\n",
        "\n",
        "   for i in knn_indices:\n",
        "     labels.append(self.y_train[i])\n",
        "\n",
        "   occ = np.bincount(labels)\n",
        "   return np.argmax(occ)\n",
        "\n",
        "  def calculate_accuracy(self, y_test, predictions):\n",
        "    correct_ans = y_test == predictions\n",
        "    acc = (np.sum(correct_ans)/y_test.shape[0])*100\n",
        "\n",
        "    return acc\n",
        "\n",
        "    k_values = range(1, 26, 2)\n",
        "    acurracy = []\n",
        "\n",
        "    for k in k_values:\n",
        "      preds = []\n",
        "      knn = KNN(x_train, y_train, k)\n",
        "\n",
        "      for x in x_test:\n",
        "        preds.append(knn.predict(x))\n",
        "      accuracy.append(knn.calculate_accuracy(y_test, preds))\n",
        "\n",
        "    plt.plot(k_values, accuracy)\n",
        "    plt.xlabel('K')\n",
        "    plt.ylabel('Accuracy')\n",
        "    plt.show()"
      ]
    }
  ],
  "metadata": {
    "colab": {
      "provenance": []
    },
    "kernelspec": {
      "display_name": "Python 3",
      "name": "python3"
    },
    "language_info": {
      "name": "python"
    }
  },
  "nbformat": 4,
  "nbformat_minor": 0
}
